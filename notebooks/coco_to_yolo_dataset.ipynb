{
 "cells": [
  {
   "cell_type": "code",
   "execution_count": 1,
   "metadata": {},
   "outputs": [],
   "source": [
    "import json\n",
    "import os\n",
    "import shutil\n",
    "from pathlib import Path\n",
    "\n",
    "import numpy as np\n",
    "from collections import defaultdict\n",
    "from tqdm import tqdm\n"
   ]
  },
  {
   "cell_type": "code",
   "execution_count": 2,
   "metadata": {},
   "outputs": [],
   "source": [
    "BASE_PATH = \"/mnt/folcon/02_model_input_coco/\"\n",
    "\n",
    "PATH_TRAIN_COCO_JSON = 'data/annotations/instances_train2017.json'\n",
    "PATH_VAL_COCO_JSON = 'data/annotations/instances_val2017.json'\n",
    "PATH_TEST_COCO_JSON = 'data/annotations/instances_test2017.json'\n",
    "\n",
    "OUTPUT_PATH = \"/mnt/folcon/02_model_input_yolo/\""
   ]
  },
  {
   "cell_type": "code",
   "execution_count": 3,
   "metadata": {},
   "outputs": [],
   "source": [
    "with open(os.path.join(BASE_PATH, PATH_TRAIN_COCO_JSON)) as f:\n",
    "    train_coco = json.load(f)\n",
    "\n",
    "with open(os.path.join(BASE_PATH, PATH_VAL_COCO_JSON)) as f:\n",
    "    val_coco = json.load(f)\n",
    "\n",
    "with open(os.path.join(BASE_PATH, PATH_TEST_COCO_JSON)) as f:\n",
    "    test_coco = json.load(f)"
   ]
  },
  {
   "cell_type": "markdown",
   "metadata": {},
   "source": [
    "# Copy data"
   ]
  },
  {
   "cell_type": "code",
   "execution_count": 4,
   "metadata": {},
   "outputs": [
    {
     "name": "stderr",
     "output_type": "stream",
     "text": [
      "100%|██████████| 16245/16245 [00:00<00:00, 31754.02it/s]\n"
     ]
    }
   ],
   "source": [
    "for img_name in tqdm(train_coco['images']):\n",
    "    img_path = os.path.join(BASE_PATH, 'data/train2017', img_name['file_name'])\n",
    "    img_name = img_path.split('/')[-1]\n",
    "    sld_name = img_name.split('__')[0]\n",
    "    out_put_img_path = os.path.join(OUTPUT_PATH, \"images\", 'train', img_name)\n",
    "    os.symlink(img_path, out_put_img_path)"
   ]
  },
  {
   "cell_type": "code",
   "execution_count": 5,
   "metadata": {},
   "outputs": [
    {
     "name": "stderr",
     "output_type": "stream",
     "text": [
      "100%|██████████| 2689/2689 [00:00<00:00, 21226.25it/s]\n"
     ]
    }
   ],
   "source": [
    "for img_name in tqdm(val_coco['images']):\n",
    "    img_path = os.path.join(BASE_PATH, 'data/val2017', img_name['file_name'])\n",
    "    img_name = img_path.split('/')[-1]\n",
    "    sld_name = img_name.split('__')[0]\n",
    "    out_put_img_path = os.path.join(OUTPUT_PATH, \"images\", 'val', img_name)\n",
    "    os.symlink(img_path, out_put_img_path)"
   ]
  },
  {
   "cell_type": "markdown",
   "metadata": {},
   "source": [
    "# Create labels"
   ]
  },
  {
   "cell_type": "code",
   "execution_count": 16,
   "metadata": {},
   "outputs": [],
   "source": [
    "def convert_coco_json(json_dir=\"../coco/annotations/\", use_segments=False, cls91to80=False):\n",
    "    \"\"\"Converts COCO JSON format to YOLO label format, with options for segments and class mapping.\"\"\"\n",
    "\n",
    "    # Import json\n",
    "    test_names = []\n",
    "    for json_file in sorted(Path(json_dir).resolve().glob(\"*.json\")):\n",
    "        with open(json_file) as f:\n",
    "            data = json.load(f)\n",
    "        set_name = json_file.stem.split(\"_\")[-1][:-4]\n",
    "        if not os.path.exists(os.path.join(OUTPUT_PATH, \"labels\", set_name)):\n",
    "            os.makedirs(os.path.join(OUTPUT_PATH, \"labels\", set_name))\n",
    "        # Create image dict\n",
    "        images = {\"%g\" % x[\"id\"]: x for x in data[\"images\"]}\n",
    "        # Create image-annotations dict\n",
    "        imgToAnns = defaultdict(list)\n",
    "        for ann in data[\"annotations\"]:\n",
    "            imgToAnns[ann[\"image_id\"]].append(ann)\n",
    "\n",
    "        # Write labels file\n",
    "        for img_id, anns in tqdm(imgToAnns.items(), desc=f\"Annotations {json_file}\"):\n",
    "            img = images[\"%g\" % img_id]\n",
    "            h, w, f = img[\"height\"], img[\"width\"], img[\"file_name\"]\n",
    "\n",
    "            bboxes = []\n",
    "            for ann in anns:\n",
    "                if ann[\"iscrowd\"]:\n",
    "                    continue\n",
    "                # The COCO box format is [top left x, top left y, width, height]\n",
    "                box = np.array(ann[\"bbox\"], dtype=np.float64)\n",
    "                box[:2] += box[2:] / 2  # xy top-left corner to center\n",
    "                box[[0, 2]] /= w  # normalize x\n",
    "                box[[1, 3]] /= h  # normalize y\n",
    "                if box[2] <= 0 or box[3] <= 0:  # if w <= 0 and h <= 0\n",
    "                    continue\n",
    "\n",
    "                cls = ann[\"category_id\"]\n",
    "                box = [cls] + box.tolist()\n",
    "                if box not in bboxes:\n",
    "                    bboxes.append(box)\n",
    "                # Segments\n",
    "            # Write\n",
    "            img_name = f.split(\"/\")[-1]\n",
    "            if set_name == \"test\":\n",
    "                test_names.append(img_name)\n",
    "            with open(Path(os.path.join(OUTPUT_PATH, \"labels\", set_name, img_name)).with_suffix(\".txt\"), \"a\") as file:\n",
    "                for i in range(len(bboxes)):\n",
    "                    line = (*(bboxes[i]),)  # cls, box or segments\n",
    "                    file.write((\"%g \" * len(line)).rstrip() % line + \"\\n\")\n",
    "        if set_name == \"test\":\n",
    "            for img_info in data[\"images\"]:\n",
    "                img_name = img_info[\"file_name\"].split(\"/\")[-1]\n",
    "                if img_name not in test_names:\n",
    "                    with open(Path(os.path.join(OUTPUT_PATH, \"labels\", set_name, img_name)).with_suffix(\".txt\"), \"w\") as file:\n",
    "                        file.write(\"\")\n",
    "                "
   ]
  },
  {
   "cell_type": "code",
   "execution_count": 15,
   "metadata": {},
   "outputs": [
    {
     "name": "stderr",
     "output_type": "stream",
     "text": [
      "Annotations /mnt/folcon/02_model_input_coco/data/annotations/instances_test2017.json: 100%|██████████| 1315/1315 [00:00<00:00, 8897.94it/s]\n",
      "Annotations /mnt/folcon/02_model_input_coco/data/annotations/instances_train2017.json: 100%|██████████| 16245/16245 [00:01<00:00, 12376.76it/s]\n",
      "Annotations /mnt/folcon/02_model_input_coco/data/annotations/instances_val2017.json: 100%|██████████| 2689/2689 [00:00<00:00, 12338.97it/s]\n"
     ]
    }
   ],
   "source": [
    "convert_coco_json(json_dir=os.path.join(BASE_PATH, 'data/annotations/'))"
   ]
  },
  {
   "cell_type": "code",
   "execution_count": 30,
   "metadata": {},
   "outputs": [
    {
     "data": {
      "text/plain": [
       "[['Primary', 0.888, 0.363, 0.3, 0.3]]"
      ]
     },
     "execution_count": 30,
     "metadata": {},
     "output_type": "execute_result"
    }
   ],
   "source": [
    "test"
   ]
  },
  {
   "cell_type": "code",
   "execution_count": null,
   "metadata": {},
   "outputs": [],
   "source": []
  }
 ],
 "metadata": {
  "kernelspec": {
   "display_name": ".venv",
   "language": "python",
   "name": "python3"
  },
  "language_info": {
   "codemirror_mode": {
    "name": "ipython",
    "version": 3
   },
   "file_extension": ".py",
   "mimetype": "text/x-python",
   "name": "python",
   "nbconvert_exporter": "python",
   "pygments_lexer": "ipython3",
   "version": "3.10.12"
  }
 },
 "nbformat": 4,
 "nbformat_minor": 2
}
